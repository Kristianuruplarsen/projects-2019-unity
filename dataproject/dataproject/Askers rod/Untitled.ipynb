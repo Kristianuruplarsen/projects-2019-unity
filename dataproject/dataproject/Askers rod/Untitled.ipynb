{
 "cells": [
  {
   "cell_type": "code",
   "execution_count": 1,
   "metadata": {},
   "outputs": [],
   "source": [
    "import datetime\n",
    "import pandas as pd\n",
    "import numpy as np\n"
   ]
  },
  {
   "cell_type": "code",
   "execution_count": 2,
   "metadata": {},
   "outputs": [],
   "source": [
    "from price_with_runmean_downloadfunc import download_data_with_runmean"
   ]
  },
  {
   "cell_type": "code",
   "execution_count": 7,
   "metadata": {},
   "outputs": [],
   "source": [
    "d = download_data_with_runmean(companys=['GOOG','VWS.CO'],from_year = 2012)"
   ]
  },
  {
   "cell_type": "code",
   "execution_count": 14,
   "metadata": {},
   "outputs": [
    {
     "data": {
      "text/plain": [
       "<matplotlib.axes._subplots.AxesSubplot at 0x119cf49b0>"
      ]
     },
     "execution_count": 14,
     "metadata": {},
     "output_type": "execute_result"
    },
    {
     "data": {
      "image/png": "[encoded data removed]",
      "text/plain": [
       "<Figure size 432x288 with 1 Axes>"
      ]
     },
     "metadata": {
      "needs_background": "light"
     },
     "output_type": "display_data"
    }
   ],
   "source": [
    "ax = d.swaplevel(axis=1)['Close'].plot()\n",
    "ax"
   ]
  },
  {
   "cell_type": "code",
   "execution_count": 26,
   "metadata": {},
   "outputs": [
    {
     "data": {
      "text/html": [
       "<div>\n",
       "<style scoped>\n",
       "    .dataframe tbody tr th:only-of-type {\n",
       "        vertical-align: middle;\n",
       "    }\n",
       "\n",
       "    .dataframe tbody tr th {\n",
       "        vertical-align: top;\n",
       "    }\n",
       "\n",
       "    .dataframe thead th {\n",
       "        text-align: right;\n",
       "    }\n",
       "</style>\n",
       "<table border=\"1\" class=\"dataframe\">\n",
       "  <thead>\n",
       "    <tr style=\"text-align: right;\">\n",
       "      <th></th>\n",
       "      <th>Date</th>\n",
       "      <th>2012-01-02 00:00:00</th>\n",
       "      <th>2012-01-03 00:00:00</th>\n",
       "      <th>2012-01-04 00:00:00</th>\n",
       "      <th>2012-01-05 00:00:00</th>\n",
       "      <th>2012-01-06 00:00:00</th>\n",
       "      <th>2012-01-09 00:00:00</th>\n",
       "      <th>2012-01-10 00:00:00</th>\n",
       "      <th>2012-01-11 00:00:00</th>\n",
       "      <th>2012-01-12 00:00:00</th>\n",
       "      <th>2012-01-13 00:00:00</th>\n",
       "      <th>...</th>\n",
       "      <th>2017-12-15 00:00:00</th>\n",
       "      <th>2017-12-18 00:00:00</th>\n",
       "      <th>2017-12-19 00:00:00</th>\n",
       "      <th>2017-12-20 00:00:00</th>\n",
       "      <th>2017-12-21 00:00:00</th>\n",
       "      <th>2017-12-22 00:00:00</th>\n",
       "      <th>2017-12-26 00:00:00</th>\n",
       "      <th>2017-12-27 00:00:00</th>\n",
       "      <th>2017-12-28 00:00:00</th>\n",
       "      <th>2017-12-29 00:00:00</th>\n",
       "    </tr>\n",
       "    <tr>\n",
       "      <th>Company</th>\n",
       "      <th>Attributes</th>\n",
       "      <th></th>\n",
       "      <th></th>\n",
       "      <th></th>\n",
       "      <th></th>\n",
       "      <th></th>\n",
       "      <th></th>\n",
       "      <th></th>\n",
       "      <th></th>\n",
       "      <th></th>\n",
       "      <th></th>\n",
       "      <th></th>\n",
       "      <th></th>\n",
       "      <th></th>\n",
       "      <th></th>\n",
       "      <th></th>\n",
       "      <th></th>\n",
       "      <th></th>\n",
       "      <th></th>\n",
       "      <th></th>\n",
       "      <th></th>\n",
       "      <th></th>\n",
       "    </tr>\n",
       "  </thead>\n",
       "  <tbody>\n",
       "    <tr>\n",
       "      <th>GOOG</th>\n",
       "      <th>Close</th>\n",
       "      <td>325.709076</td>\n",
       "      <td>330.555054</td>\n",
       "      <td>331.980774</td>\n",
       "      <td>327.375732</td>\n",
       "      <td>322.909790</td>\n",
       "      <td>309.218842</td>\n",
       "      <td>309.556641</td>\n",
       "      <td>310.957520</td>\n",
       "      <td>312.785645</td>\n",
       "      <td>310.475647</td>\n",
       "      <td>...</td>\n",
       "      <td>1064.189941</td>\n",
       "      <td>1077.140015</td>\n",
       "      <td>1070.680054</td>\n",
       "      <td>1064.949951</td>\n",
       "      <td>1063.630005</td>\n",
       "      <td>1060.119995</td>\n",
       "      <td>1056.739990</td>\n",
       "      <td>1049.369995</td>\n",
       "      <td>1048.140015</td>\n",
       "      <td>1046.400024</td>\n",
       "    </tr>\n",
       "    <tr>\n",
       "      <th>VWS.CO</th>\n",
       "      <th>Close</th>\n",
       "      <td>67.949997</td>\n",
       "      <td>69.599998</td>\n",
       "      <td>56.250000</td>\n",
       "      <td>55.000000</td>\n",
       "      <td>56.150002</td>\n",
       "      <td>58.250000</td>\n",
       "      <td>61.150002</td>\n",
       "      <td>62.950001</td>\n",
       "      <td>58.500000</td>\n",
       "      <td>57.000000</td>\n",
       "      <td>...</td>\n",
       "      <td>419.000000</td>\n",
       "      <td>436.600006</td>\n",
       "      <td>428.399994</td>\n",
       "      <td>435.500000</td>\n",
       "      <td>434.200012</td>\n",
       "      <td>432.899994</td>\n",
       "      <td>436.199997</td>\n",
       "      <td>439.500000</td>\n",
       "      <td>434.500000</td>\n",
       "      <td>428.799988</td>\n",
       "    </tr>\n",
       "  </tbody>\n",
       "</table>\n",
       "<p>2 rows × 1547 columns</p>\n",
       "</div>"
      ],
      "text/plain": [
       "Date                2012-01-02  2012-01-03  2012-01-04  2012-01-05  \\\n",
       "Company Attributes                                                   \n",
       "GOOG    Close       325.709076  330.555054  331.980774  327.375732   \n",
       "VWS.CO  Close        67.949997   69.599998   56.250000   55.000000   \n",
       "\n",
       "Date                2012-01-06  2012-01-09  2012-01-10  2012-01-11  \\\n",
       "Company Attributes                                                   \n",
       "GOOG    Close       322.909790  309.218842  309.556641  310.957520   \n",
       "VWS.CO  Close        56.150002   58.250000   61.150002   62.950001   \n",
       "\n",
       "Date                2012-01-12  2012-01-13     ...        2017-12-15  \\\n",
       "Company Attributes                             ...                     \n",
       "GOOG    Close       312.785645  310.475647     ...       1064.189941   \n",
       "VWS.CO  Close        58.500000   57.000000     ...        419.000000   \n",
       "\n",
       "Date                 2017-12-18   2017-12-19   2017-12-20   2017-12-21  \\\n",
       "Company Attributes                                                       \n",
       "GOOG    Close       1077.140015  1070.680054  1064.949951  1063.630005   \n",
       "VWS.CO  Close        436.600006   428.399994   435.500000   434.200012   \n",
       "\n",
       "Date                 2017-12-22   2017-12-26   2017-12-27   2017-12-28  \\\n",
       "Company Attributes                                                       \n",
       "GOOG    Close       1060.119995  1056.739990  1049.369995  1048.140015   \n",
       "VWS.CO  Close        432.899994   436.199997   439.500000   434.500000   \n",
       "\n",
       "Date                 2017-12-29  \n",
       "Company Attributes               \n",
       "GOOG    Close       1046.400024  \n",
       "VWS.CO  Close        428.799988  \n",
       "\n",
       "[2 rows x 1547 columns]"
      ]
     },
     "execution_count": 26,
     "metadata": {},
     "output_type": "execute_result"
    }
   ],
   "source": [
    "d.T.loc[(slice(None), 'Close'), :]"
   ]
  },
  {
   "cell_type": "code",
   "execution_count": null,
   "metadata": {},
   "outputs": [],
   "source": [
    "d."
   ]
  },
  {
   "cell_type": "code",
   "execution_count": null,
   "metadata": {},
   "outputs": [],
   "source": []
  },
  {
   "cell_type": "code",
   "execution_count": null,
   "metadata": {},
   "outputs": [],
   "source": []
  }
 ],
 "metadata": {
  "kernelspec": {
   "display_name": "Python 3",
   "language": "python",
   "name": "python3"
  },
  "language_info": {
   "codemirror_mode": {
    "name": "ipython",
    "version": 3
   },
   "file_extension": ".py",
   "mimetype": "text/x-python",
   "name": "python",
   "nbconvert_exporter": "python",
   "pygments_lexer": "ipython3",
   "version": "3.7.1"
  }
 },
 "nbformat": 4,
 "nbformat_minor": 2
}
